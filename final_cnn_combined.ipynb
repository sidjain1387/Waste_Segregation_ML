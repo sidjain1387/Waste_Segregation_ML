{
 "cells": [
  {
   "cell_type": "markdown",
   "metadata": {},
   "source": [
    "# according to the probablities"
   ]
  },
  {
   "cell_type": "code",
   "execution_count": 28,
   "metadata": {},
   "outputs": [
    {
     "name": "stderr",
     "output_type": "stream",
     "text": [
      "WARNING:absl:Compiled the loaded model, but the compiled metrics have yet to be built. `model.compile_metrics` will be empty until you train or evaluate the model.\n",
      "WARNING:absl:Compiled the loaded model, but the compiled metrics have yet to be built. `model.compile_metrics` will be empty until you train or evaluate the model.\n",
      "WARNING:absl:Compiled the loaded model, but the compiled metrics have yet to be built. `model.compile_metrics` will be empty until you train or evaluate the model.\n",
      "WARNING:absl:Compiled the loaded model, but the compiled metrics have yet to be built. `model.compile_metrics` will be empty until you train or evaluate the model.\n"
     ]
    },
    {
     "name": "stdout",
     "output_type": "stream",
     "text": [
      "\u001b[1m1/1\u001b[0m \u001b[32m━━━━━━━━━━━━━━━━━━━━\u001b[0m\u001b[37m\u001b[0m \u001b[1m0s\u001b[0m 140ms/step\n",
      "Prediction shape from e_waste: (1, 29)\n",
      "Predicted class from e_waste: 0, confidence: 1.0\n",
      "\u001b[1m1/1\u001b[0m \u001b[32m━━━━━━━━━━━━━━━━━━━━\u001b[0m\u001b[37m\u001b[0m \u001b[1m0s\u001b[0m 177ms/step\n",
      "Prediction shape from organic_waste: (1, 10)\n",
      "Predicted class from organic_waste: 7, confidence: 0.9999737739562988\n",
      "\u001b[1m1/1\u001b[0m \u001b[32m━━━━━━━━━━━━━━━━━━━━\u001b[0m\u001b[37m\u001b[0m \u001b[1m0s\u001b[0m 179ms/step\n",
      "Prediction shape from Recyclable_waste: (1, 32)\n",
      "Predicted class from Recyclable_waste: 18, confidence: 0.9999688863754272\n",
      "\u001b[1m1/1\u001b[0m \u001b[32m━━━━━━━━━━━━━━━━━━━━\u001b[0m\u001b[37m\u001b[0m \u001b[1m0s\u001b[0m 199ms/step\n",
      "Prediction shape from Non_recyclable_waste: (1, 37)\n",
      "Predicted class from Non_recyclable_waste: 29, confidence: 0.9615726470947266\n",
      "Best model: e_waste\n",
      "Predicted class: 0\n"
     ]
    }
   ],
   "source": [
    "import tensorflow as tf\n",
    "from tensorflow.keras.models import load_model\n",
    "import numpy as np\n",
    "from tensorflow.keras.preprocessing import image\n",
    "\n",
    "# Load the models\n",
    "model1 = load_model('e_waste_model.h5')\n",
    "model2 = load_model('organic_waste_model.h5')\n",
    "model3 = load_model('Recyclable_waste_model.h5')\n",
    "model4 = load_model('Non_recyclable_waste_model.h5')\n",
    "\n",
    "models = [model1, model2, model3, model4]\n",
    "model_names = ['e_waste', 'organic_waste', 'Recyclable_waste', 'Non_recyclable_waste']\n",
    "\n",
    "# Function to preprocess the image\n",
    "def preprocess_image(img_path):\n",
    "    img = image.load_img(img_path, target_size=(64, 64))\n",
    "    img_array = image.img_to_array(img)\n",
    "    img_array = np.expand_dims(img_array, axis=0)\n",
    "    img_array = tf.keras.applications.mobilenet_v2.preprocess_input(img_array)\n",
    "    return img_array\n",
    "\n",
    "# Function to find the best model for the given image\n",
    "def find_best_model(models, model_names, img_path):\n",
    "    img_array = preprocess_image(img_path)\n",
    "    \n",
    "    best_model = None\n",
    "    best_model_name = \"\"\n",
    "    highest_confidence = -1\n",
    "    predicted_class = -1\n",
    "\n",
    "    for model, name in zip(models, model_names):\n",
    "        prediction = model.predict(img_array)\n",
    "        confidence = np.max(prediction)\n",
    "        predicted_class_for_model = np.argmax(prediction, axis=1)[0]\n",
    "\n",
    "        print(f\"Prediction shape from {name}: {prediction.shape}\")\n",
    "        print(f\"Predicted class from {name}: {predicted_class_for_model}, confidence: {confidence}\")\n",
    "        \n",
    "        if confidence > highest_confidence:\n",
    "            highest_confidence = confidence\n",
    "            best_model = model\n",
    "            best_model_name = name\n",
    "            predicted_class = predicted_class_for_model\n",
    "    \n",
    "    return best_model, best_model_name, predicted_class\n",
    "\n",
    "# Example usage\n",
    "img_path = 'dataset_2/test.jpg'\n",
    "best_model, best_model_name, predicted_class = find_best_model(models, model_names, img_path)\n",
    "print(f'Best model: {best_model_name}')\n",
    "print(f'Predicted class: {predicted_class}')\n"
   ]
  },
  {
   "cell_type": "markdown",
   "metadata": {},
   "source": [
    "# According to the voting"
   ]
  },
  {
   "cell_type": "code",
   "execution_count": null,
   "metadata": {},
   "outputs": [],
   "source": [
    "import tensorflow as tf\n",
    "from tensorflow.keras.models import load_model\n",
    "import numpy as np\n",
    "from tensorflow.keras.preprocessing import image\n",
    "\n",
    "# Load the models\n",
    "model1 = load_model('e_waste_model.h5')\n",
    "model2 = load_model('organic_waste_model.h5')\n",
    "model3 = load_model('Recyclable_waste_model.h5')\n",
    "model4 = load_model('Non_recyclable_waste_model.h5')\n",
    "\n",
    "models = [model1, model2, model3, model4]\n",
    "model_names = ['e_waste', 'organic_waste', 'Recyclable_waste', 'Non_recyclable_waste']\n",
    "\n",
    "# Function to preprocess the image\n",
    "def preprocess_image(img_path):\n",
    "    img = image.load_img(img_path, target_size=(64, 64))\n",
    "    img_array = image.img_to_array(img)\n",
    "    img_array = np.expand_dims(img_array, axis=0)\n",
    "    img_array = tf.keras.applications.mobilenet_v2.preprocess_input(img_array)\n",
    "    return img_array\n",
    "\n",
    "# Function to find the best model for the given image\n",
    "def find_best_model(models, model_names, img_path):\n",
    "    img_array = preprocess_image(img_path)\n",
    "    \n",
    "    best_model = None\n",
    "    best_model_name = \"\"\n",
    "    highest_average_probability = -1\n",
    "    predicted_class = -1\n",
    "\n",
    "    for model, name in zip(models, model_names):\n",
    "        prediction = model.predict(img_array)\n",
    "        average_probability = np.mean(prediction)\n",
    "\n",
    "        print(f\"Average probability from {name}: {average_probability}\")\n",
    "        \n",
    "        if average_probability > highest_average_probability:\n",
    "            highest_average_probability = average_probability\n",
    "            best_model = model\n",
    "            best_model_name = name\n",
    "            predicted_class = np.argmax(prediction, axis=1)[0]\n",
    "    \n",
    "    return best_model, best_model_name, predicted_class\n",
    "\n",
    "# Example usage\n",
    "img_path = 'dataset_2/test.jpg'\n",
    "best_model, best_model_name, predicted_class = find_best_model(models, model_names, img_path)\n",
    "print(f'Best model: {best_model_name}')\n",
    "print(f'Predicted class: {predicted_class}')\n"
   ]
  }
 ],
 "metadata": {
  "kernelspec": {
   "display_name": "Python 3",
   "language": "python",
   "name": "python3"
  },
  "language_info": {
   "codemirror_mode": {
    "name": "ipython",
    "version": 3
   },
   "file_extension": ".py",
   "mimetype": "text/x-python",
   "name": "python",
   "nbconvert_exporter": "python",
   "pygments_lexer": "ipython3",
   "version": "3.12.3"
  }
 },
 "nbformat": 4,
 "nbformat_minor": 2
}
